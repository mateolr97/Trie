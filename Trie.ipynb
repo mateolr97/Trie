{
  "nbformat": 4,
  "nbformat_minor": 0,
  "metadata": {
    "colab": {
      "name": "Trie.ipynb",
      "provenance": [],
      "collapsed_sections": []
    },
    "kernelspec": {
      "name": "python3",
      "display_name": "Python 3"
    },
    "language_info": {
      "name": "python"
    }
  },
  "cells": [
    {
      "cell_type": "code",
      "execution_count": 2,
      "metadata": {
        "id": "L4bjcrLu6C9g"
      },
      "outputs": [],
      "source": [
        "def buildTrie(*words):\n",
        "    sortedWords2 = sorted(words, key=len)\n",
        "    sortedWords = sortedWords2[::-1]\n",
        "    trie = {}\n",
        "    for i in range(len(sortedWords)):\n",
        "      trie2 = trie\n",
        "      for j in range(1,len(sortedWords[i])+1):\n",
        "        if j == len(sortedWords[i]):\n",
        "            trie2 = trie2.setdefault(sortedWords[i][0:j], None)\n",
        "        else:\n",
        "            trie2 = trie2.setdefault(sortedWords[i][0:j], {})\n",
        "    return trie"
      ]
    },
    {
      "cell_type": "code",
      "source": [
        "buildTrie(\"true\", \"trust\")\n"
      ],
      "metadata": {
        "colab": {
          "base_uri": "https://localhost:8080/"
        },
        "id": "KFXqahF_8fsY",
        "outputId": "6af2ea83-10c1-4dab-c183-d05709bc4b7d"
      },
      "execution_count": 4,
      "outputs": [
        {
          "output_type": "execute_result",
          "data": {
            "text/plain": [
              "{'t': {'tr': {'tru': {'true': None, 'trus': {'trust': None}}}}}"
            ]
          },
          "metadata": {},
          "execution_count": 4
        }
      ]
    }
  ]
}
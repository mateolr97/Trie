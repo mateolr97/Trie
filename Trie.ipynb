{
  "nbformat": 4,
  "nbformat_minor": 0,
  "metadata": {
    "colab": {
      "name": "Trie.ipynb",
      "provenance": [],
      "collapsed_sections": []
    },
    "kernelspec": {
      "name": "python3",
      "display_name": "Python 3"
    },
    "language_info": {
      "name": "python"
    }
  },
  "cells": [
    {
      "cell_type": "code",
      "execution_count": 5,
      "metadata": {
        "id": "L4bjcrLu6C9g"
      },
      "outputs": [],
      "source": [
        "def build_trie(*words):\n",
        "    sortedWords2 = sorted(words, key=len)\n",
        "    sortedWords = sortedWords2[::-1]\n",
        "    trie = {}\n",
        "    for i in range(len(sortedWords)):\n",
        "        trie2 = trie\n",
        "        for j in range(1,len(sortedWords[i])+1):\n",
        "            if j == len(sortedWords[i]):\n",
        "                trie2 = trie2.setdefault(sortedWords[i][0:j], None)\n",
        "            else:\n",
        "                trie2 = trie2.setdefault(sortedWords[i][0:j], {})\n",
        "    return trie"
      ]
    },
    {
      "cell_type": "code",
      "source": [
        "build_trie(\"true\", \"trust\")\n"
      ],
      "metadata": {
        "colab": {
          "base_uri": "https://localhost:8080/"
        },
        "id": "KFXqahF_8fsY",
        "outputId": "87a9c395-a963-4845-f803-ec9838b01eb2"
      },
      "execution_count": 6,
      "outputs": [
        {
          "output_type": "execute_result",
          "data": {
            "text/plain": [
              "{'t': {'tr': {'tru': {'true': None, 'trus': {'trust': None}}}}}"
            ]
          },
          "metadata": {},
          "execution_count": 6
        }
      ]
    }
  ]
}